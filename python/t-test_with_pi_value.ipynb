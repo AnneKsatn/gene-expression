{
 "cells": [
  {
   "cell_type": "code",
   "execution_count": 1,
   "metadata": {},
   "outputs": [],
   "source": [
    "import numpy as np\n",
    "np.random.seed(42)\n",
    "import pandas as pd\n",
    "from scipy.stats import ttest_ind\n",
    "from numba import njit, jit\n",
    "import matplotlib.pyplot as plt\n",
    "import seaborn as sns\n",
    "sns.set(rc={'figure.figsize':(11.7,8.27)})"
   ]
  },
  {
   "cell_type": "code",
   "execution_count": 2,
   "metadata": {},
   "outputs": [],
   "source": [
    "meta = pd.read_csv('../data/META_SL.csv')"
   ]
  },
  {
   "cell_type": "code",
   "execution_count": 3,
   "metadata": {},
   "outputs": [
    {
     "data": {
      "text/plain": [
       "array(['Agilent', 'Illumina_NGS', 'Affymetrix_U133', 'Illumina_Chip',\n",
       "       'Affymetrix_HUG', 'Affymetrix_PRV'], dtype=object)"
      ]
     },
     "execution_count": 3,
     "metadata": {},
     "output_type": "execute_result"
    }
   ],
   "source": [
    "meta['plat'].unique()"
   ]
  },
  {
   "cell_type": "code",
   "execution_count": 4,
   "metadata": {},
   "outputs": [
    {
     "data": {
      "text/html": [
       "<div>\n",
       "<style scoped>\n",
       "    .dataframe tbody tr th:only-of-type {\n",
       "        vertical-align: middle;\n",
       "    }\n",
       "\n",
       "    .dataframe tbody tr th {\n",
       "        vertical-align: top;\n",
       "    }\n",
       "\n",
       "    .dataframe thead th {\n",
       "        text-align: right;\n",
       "    }\n",
       "</style>\n",
       "<table border=\"1\" class=\"dataframe\">\n",
       "  <thead>\n",
       "    <tr style=\"text-align: right;\">\n",
       "      <th></th>\n",
       "      <th>CN</th>\n",
       "      <th>type</th>\n",
       "      <th>plat</th>\n",
       "      <th>TP</th>\n",
       "    </tr>\n",
       "  </thead>\n",
       "  <tbody>\n",
       "    <tr>\n",
       "      <th>0</th>\n",
       "      <td>C_1</td>\n",
       "      <td>Solid tumor</td>\n",
       "      <td>Agilent</td>\n",
       "      <td>Solid tumor_Agilent</td>\n",
       "    </tr>\n",
       "    <tr>\n",
       "      <th>1</th>\n",
       "      <td>C_2</td>\n",
       "      <td>Solid tumor</td>\n",
       "      <td>Agilent</td>\n",
       "      <td>Solid tumor_Agilent</td>\n",
       "    </tr>\n",
       "    <tr>\n",
       "      <th>2</th>\n",
       "      <td>C_3</td>\n",
       "      <td>Solid tumor</td>\n",
       "      <td>Agilent</td>\n",
       "      <td>Solid tumor_Agilent</td>\n",
       "    </tr>\n",
       "    <tr>\n",
       "      <th>3</th>\n",
       "      <td>C_4</td>\n",
       "      <td>Solid tumor</td>\n",
       "      <td>Agilent</td>\n",
       "      <td>Solid tumor_Agilent</td>\n",
       "    </tr>\n",
       "    <tr>\n",
       "      <th>4</th>\n",
       "      <td>C_5</td>\n",
       "      <td>Solid tumor</td>\n",
       "      <td>Agilent</td>\n",
       "      <td>Solid tumor_Agilent</td>\n",
       "    </tr>\n",
       "    <tr>\n",
       "      <th>...</th>\n",
       "      <td>...</td>\n",
       "      <td>...</td>\n",
       "      <td>...</td>\n",
       "      <td>...</td>\n",
       "    </tr>\n",
       "    <tr>\n",
       "      <th>7162</th>\n",
       "      <td>C_7163</td>\n",
       "      <td>C</td>\n",
       "      <td>Affymetrix_PRV</td>\n",
       "      <td>C_Affymetrix_PRV</td>\n",
       "    </tr>\n",
       "    <tr>\n",
       "      <th>7163</th>\n",
       "      <td>C_7164</td>\n",
       "      <td>D</td>\n",
       "      <td>Affymetrix_PRV</td>\n",
       "      <td>D_Affymetrix_PRV</td>\n",
       "    </tr>\n",
       "    <tr>\n",
       "      <th>7164</th>\n",
       "      <td>C_7165</td>\n",
       "      <td>D</td>\n",
       "      <td>Affymetrix_PRV</td>\n",
       "      <td>D_Affymetrix_PRV</td>\n",
       "    </tr>\n",
       "    <tr>\n",
       "      <th>7165</th>\n",
       "      <td>C_7166</td>\n",
       "      <td>D</td>\n",
       "      <td>Affymetrix_PRV</td>\n",
       "      <td>D_Affymetrix_PRV</td>\n",
       "    </tr>\n",
       "    <tr>\n",
       "      <th>7166</th>\n",
       "      <td>C_7167</td>\n",
       "      <td>D</td>\n",
       "      <td>Affymetrix_PRV</td>\n",
       "      <td>D_Affymetrix_PRV</td>\n",
       "    </tr>\n",
       "  </tbody>\n",
       "</table>\n",
       "<p>7167 rows × 4 columns</p>\n",
       "</div>"
      ],
      "text/plain": [
       "          CN         type            plat                   TP\n",
       "0        C_1  Solid tumor         Agilent  Solid tumor_Agilent\n",
       "1        C_2  Solid tumor         Agilent  Solid tumor_Agilent\n",
       "2        C_3  Solid tumor         Agilent  Solid tumor_Agilent\n",
       "3        C_4  Solid tumor         Agilent  Solid tumor_Agilent\n",
       "4        C_5  Solid tumor         Agilent  Solid tumor_Agilent\n",
       "...      ...          ...             ...                  ...\n",
       "7162  C_7163            C  Affymetrix_PRV     C_Affymetrix_PRV\n",
       "7163  C_7164            D  Affymetrix_PRV     D_Affymetrix_PRV\n",
       "7164  C_7165            D  Affymetrix_PRV     D_Affymetrix_PRV\n",
       "7165  C_7166            D  Affymetrix_PRV     D_Affymetrix_PRV\n",
       "7166  C_7167            D  Affymetrix_PRV     D_Affymetrix_PRV\n",
       "\n",
       "[7167 rows x 4 columns]"
      ]
     },
     "execution_count": 4,
     "metadata": {},
     "output_type": "execute_result"
    }
   ],
   "source": [
    "meta"
   ]
  },
  {
   "cell_type": "code",
   "execution_count": 5,
   "metadata": {},
   "outputs": [],
   "source": [
    "data = pd.read_csv('../data/50.csv')"
   ]
  },
  {
   "cell_type": "code",
   "execution_count": 6,
   "metadata": {},
   "outputs": [],
   "source": [
    "data.columns = meta['CN']"
   ]
  },
  {
   "cell_type": "code",
   "execution_count": 7,
   "metadata": {},
   "outputs": [],
   "source": [
    "data = data.astype(float)"
   ]
  },
  {
   "cell_type": "code",
   "execution_count": 8,
   "metadata": {},
   "outputs": [],
   "source": [
    "plat_1 = meta[meta['plat'] == 'Agilent']['CN']\n",
    "plat_2 = meta[meta['plat'] == 'Affymetrix_U133']['CN']"
   ]
  },
  {
   "cell_type": "code",
   "execution_count": 9,
   "metadata": {},
   "outputs": [],
   "source": [
    "rng = np.random.default_rng()"
   ]
  },
  {
   "cell_type": "code",
   "execution_count": 10,
   "metadata": {},
   "outputs": [],
   "source": [
    "def get_splitted_columns(columns):\n",
    "    shuffled = rng.permutation(columns)\n",
    "    columns_1 = shuffled[:len(columns) // 2]\n",
    "    columns_2 = shuffled[len(columns) // 2:]\n",
    "    return columns_1, columns_2"
   ]
  },
  {
   "cell_type": "code",
   "execution_count": 11,
   "metadata": {},
   "outputs": [],
   "source": [
    "def split_for_f(gene, columns_1, columns_2):\n",
    "    sample_1 = gene[columns_1].values\n",
    "    sample_2 = gene[columns_2].values\n",
    "    return f(sample_1, sample_2)"
   ]
  },
  {
   "cell_type": "markdown",
   "metadata": {},
   "source": [
    "$$\n",
    "f_g = sign(\\overline{D}_g - \\overline{H}_g) \\cdot (-lg(P_g))\n",
    "$$"
   ]
  },
  {
   "cell_type": "code",
   "execution_count": 15,
   "metadata": {},
   "outputs": [],
   "source": [
    "# @njit\n",
    "def f(sample_1, sample_2):\n",
    "    p_value = ttest_ind(sample_1, sample_2)[1]\n",
    "    return p_value"
   ]
  },
  {
   "cell_type": "code",
   "execution_count": 16,
   "metadata": {},
   "outputs": [],
   "source": [
    "def calc_corr(data, fixed_cols, splitting_cols):\n",
    "    cols_1, cols_2 = get_splitted_columns(splitting_cols)\n",
    "    \n",
    "    f_1 = data.apply(split_for_f, args=(fixed_cols, cols_1), axis=1)\n",
    "    f_2 = data.apply(split_for_f, args=(fixed_cols, cols_2), axis=1)\n",
    "    \n",
    "    return f_1.corr(f_2)"
   ]
  },
  {
   "cell_type": "code",
   "execution_count": 17,
   "metadata": {},
   "outputs": [
    {
     "name": "stdout",
     "output_type": "stream",
     "text": [
      "Wall time: 26.2 s\n"
     ]
    },
    {
     "data": {
      "text/plain": [
       "0.38271466083136857"
      ]
     },
     "execution_count": 17,
     "metadata": {},
     "output_type": "execute_result"
    }
   ],
   "source": [
    "%time calc_corr(data, plat_1, plat_2)"
   ]
  },
  {
   "cell_type": "code",
   "execution_count": 15,
   "metadata": {},
   "outputs": [],
   "source": [
    "corrs = [calc_corr(data, plat_1, plat_2) for i in range(100)]"
   ]
  },
  {
   "cell_type": "code",
   "execution_count": 24,
   "metadata": {},
   "outputs": [
    {
     "data": {
      "image/png": "[encoded data removed]",
      "text/plain": [
       "<Figure size 842.4x595.44 with 1 Axes>"
      ]
     },
     "metadata": {},
     "output_type": "display_data"
    }
   ],
   "source": [
    "sns.distplot(corrs, hist=False);"
   ]
  }
 ],
 "metadata": {
  "kernelspec": {
   "display_name": "Python 3",
   "language": "python",
   "name": "python3"
  },
  "language_info": {
   "codemirror_mode": {
    "name": "ipython",
    "version": 3
   },
   "file_extension": ".py",
   "mimetype": "text/x-python",
   "name": "python",
   "nbconvert_exporter": "python",
   "pygments_lexer": "ipython3",
   "version": "3.7.9"
  }
 },
 "nbformat": 4,
 "nbformat_minor": 4
}
